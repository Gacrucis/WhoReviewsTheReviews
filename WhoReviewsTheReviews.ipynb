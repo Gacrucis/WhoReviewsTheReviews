{
  "nbformat": 4,
  "nbformat_minor": 0,
  "metadata": {
    "colab": {
      "name": "WhoReviewsTheReviews.ipynb",
      "provenance": [],
      "collapsed_sections": []
    },
    "kernelspec": {
      "name": "python3",
      "display_name": "Python 3"
    },
    "language_info": {
      "name": "python"
    }
  },
  "cells": [
    {
      "cell_type": "markdown",
      "source": [
        "![](https://i.imgur.com/xRp1fVS.png)"
      ],
      "metadata": {
        "id": "AXrxZIsMqZry"
      }
    },
    {
      "cell_type": "markdown",
      "source": [
        "<h1> <b>Group Members</b> </h1>\n",
        "\n",
        "<ul>\n",
        "  <li>Daniel David Delgado Cervantes - 2182066 <b>Grupo H2</b></li>\n",
        "  <li>Gianfranco Estevez Ruiz - 2183074 <b>Grupo H1</b> </li>\n",
        "  <li>Edward Javier Parada Silva - 2182070 <b>Grupo H2</b></li>\n",
        "\n",
        "</ul>\n"
      ],
      "metadata": {
        "id": "7d11QR8DmKnV"
      }
    },
    {
      "cell_type": "markdown",
      "source": [
        "# **Table of Contents**\n",
        "\n",
        "\n",
        "\n",
        "\n",
        "\n"
      ],
      "metadata": {
        "id": "EntnCUJXI6mz"
      }
    },
    {
      "cell_type": "markdown",
      "source": [
        "1. [**Datasets, pre-processing and more Shenanigans**](#eje1)\n",
        "\n",
        "    1.   [Product Review Dataset](#eje11)\n",
        "    2.   [Extracting Numeric Values From Text](#eje12)\n",
        "\n",
        "        1. [Sentimental Lexicon Dataset](#eje121)\n",
        "        2. [Words, Characters and Repetitions](#eje121)\n",
        "\n",
        "    3. [Preprocessing The Dataset](#eje13)\n",
        "    4. [Extraction Process](#eje14)\n",
        "\n",
        "2. [**Training The Classifiers**](#eje2)\n",
        "\n",
        "    1. [Desicion Tree Classffiers](#eje21)\n",
        "    2. [Support-Vector Clasffiers](#eje22)\n",
        "    3. [Cross Validation](#eje23)\n",
        "    4. [KMeans](#eje24)\n",
        "\n",
        "3. [**Conclusions**](#eje3)"
      ],
      "metadata": {
        "id": "3JfzkG2pmrtb"
      }
    },
    {
      "cell_type": "markdown",
      "source": [
        "# **1. Datasets, Preprocessing and more Shenanigans**  <a name=\"eje1\"></a>\n"
      ],
      "metadata": {
        "id": "o6qp6LvenhTs"
      }
    },
    {
      "cell_type": "markdown",
      "source": [
        "## **Product Review Dataset** <a name=\"eje11\"></a>\n",
        "The dataset we decided to use in order to create our review classifier, contains 4 columns. The first of this columns, `category`, defines what type of product was reviewed. From the dataset, 10 categories were identified:\n",
        "\n",
        "- Clothing Shoes and Jewelry\n",
        "- Electronics\n",
        "- Home and Chicken\n",
        "- Kindle Store\n",
        "- Movies and TV\n",
        "- Pet Supplies\n",
        "- Sports and Outdoors\n",
        "- Tools and Home Improvement\n",
        "- Toys and Games\n",
        "- Books\n",
        "\n",
        "The next column is `rating`. It is related to the rating given in the review. This value ranges from 1 to 5 and it describes the perceived quality of the product according to the reviewer. It's expected that most of the fake reviews are either 5 out 5 stars, to boost the product's popularity; or negative, 1 out 5 stars, if the objective was to demerit other products.\n",
        "\n",
        "The last two columns were `label` which is our ground truth. It can be either \"CG\", \"computer-generated\"; or \"OR\", which stands for \"original review\". And `text` which contains the actual review left by the customer or bot."
      ],
      "metadata": {
        "id": "hErAuj5pLron"
      }
    },
    {
      "cell_type": "code",
      "execution_count": null,
      "metadata": {
        "id": "PpuW9fVGXTBn",
        "colab": {
          "base_uri": "https://localhost:8080/",
          "height": 363
        },
        "outputId": "21338c7d-8811-4cad-fc3d-1113193a4a24",
        "cellView": "form"
      },
      "outputs": [
        {
          "output_type": "execute_result",
          "data": {
            "text/html": [
              "\n",
              "  <div id=\"df-19b91fa0-89ac-408c-a3c9-13edb80ebea0\">\n",
              "    <div class=\"colab-df-container\">\n",
              "      <div>\n",
              "<style scoped>\n",
              "    .dataframe tbody tr th:only-of-type {\n",
              "        vertical-align: middle;\n",
              "    }\n",
              "\n",
              "    .dataframe tbody tr th {\n",
              "        vertical-align: top;\n",
              "    }\n",
              "\n",
              "    .dataframe thead th {\n",
              "        text-align: right;\n",
              "    }\n",
              "</style>\n",
              "<table border=\"1\" class=\"dataframe\">\n",
              "  <thead>\n",
              "    <tr style=\"text-align: right;\">\n",
              "      <th></th>\n",
              "      <th>category</th>\n",
              "      <th>rating</th>\n",
              "      <th>label</th>\n",
              "      <th>text</th>\n",
              "    </tr>\n",
              "  </thead>\n",
              "  <tbody>\n",
              "    <tr>\n",
              "      <th>0</th>\n",
              "      <td>Home_and_Kitchen_5</td>\n",
              "      <td>5.0</td>\n",
              "      <td>CG</td>\n",
              "      <td>Love this!  Well made, sturdy, and very comfor...</td>\n",
              "    </tr>\n",
              "    <tr>\n",
              "      <th>1</th>\n",
              "      <td>Home_and_Kitchen_5</td>\n",
              "      <td>5.0</td>\n",
              "      <td>CG</td>\n",
              "      <td>love it, a great upgrade from the original.  I...</td>\n",
              "    </tr>\n",
              "    <tr>\n",
              "      <th>2</th>\n",
              "      <td>Home_and_Kitchen_5</td>\n",
              "      <td>5.0</td>\n",
              "      <td>CG</td>\n",
              "      <td>This pillow saved my back. I love the look and...</td>\n",
              "    </tr>\n",
              "    <tr>\n",
              "      <th>3</th>\n",
              "      <td>Home_and_Kitchen_5</td>\n",
              "      <td>1.0</td>\n",
              "      <td>CG</td>\n",
              "      <td>Missing information on how to use it, but it i...</td>\n",
              "    </tr>\n",
              "    <tr>\n",
              "      <th>4</th>\n",
              "      <td>Home_and_Kitchen_5</td>\n",
              "      <td>5.0</td>\n",
              "      <td>CG</td>\n",
              "      <td>Very nice set. Good quality. We have had the s...</td>\n",
              "    </tr>\n",
              "    <tr>\n",
              "      <th>5</th>\n",
              "      <td>Home_and_Kitchen_5</td>\n",
              "      <td>3.0</td>\n",
              "      <td>CG</td>\n",
              "      <td>I WANTED DIFFERENT FLAVORS BUT THEY ARE NOT.</td>\n",
              "    </tr>\n",
              "    <tr>\n",
              "      <th>6</th>\n",
              "      <td>Home_and_Kitchen_5</td>\n",
              "      <td>5.0</td>\n",
              "      <td>CG</td>\n",
              "      <td>They are the perfect touch for me and the only...</td>\n",
              "    </tr>\n",
              "    <tr>\n",
              "      <th>7</th>\n",
              "      <td>Home_and_Kitchen_5</td>\n",
              "      <td>3.0</td>\n",
              "      <td>CG</td>\n",
              "      <td>These done fit well and look great.  I love th...</td>\n",
              "    </tr>\n",
              "    <tr>\n",
              "      <th>8</th>\n",
              "      <td>Home_and_Kitchen_5</td>\n",
              "      <td>5.0</td>\n",
              "      <td>CG</td>\n",
              "      <td>Great big numbers &amp; easy to read, the only thi...</td>\n",
              "    </tr>\n",
              "    <tr>\n",
              "      <th>9</th>\n",
              "      <td>Home_and_Kitchen_5</td>\n",
              "      <td>5.0</td>\n",
              "      <td>CG</td>\n",
              "      <td>My son loves this comforter and it is very wel...</td>\n",
              "    </tr>\n",
              "  </tbody>\n",
              "</table>\n",
              "</div>\n",
              "      <button class=\"colab-df-convert\" onclick=\"convertToInteractive('df-19b91fa0-89ac-408c-a3c9-13edb80ebea0')\"\n",
              "              title=\"Convert this dataframe to an interactive table.\"\n",
              "              style=\"display:none;\">\n",
              "        \n",
              "  <svg xmlns=\"http://www.w3.org/2000/svg\" height=\"24px\"viewBox=\"0 0 24 24\"\n",
              "       width=\"24px\">\n",
              "    <path d=\"M0 0h24v24H0V0z\" fill=\"none\"/>\n",
              "    <path d=\"M18.56 5.44l.94 2.06.94-2.06 2.06-.94-2.06-.94-.94-2.06-.94 2.06-2.06.94zm-11 1L8.5 8.5l.94-2.06 2.06-.94-2.06-.94L8.5 2.5l-.94 2.06-2.06.94zm10 10l.94 2.06.94-2.06 2.06-.94-2.06-.94-.94-2.06-.94 2.06-2.06.94z\"/><path d=\"M17.41 7.96l-1.37-1.37c-.4-.4-.92-.59-1.43-.59-.52 0-1.04.2-1.43.59L10.3 9.45l-7.72 7.72c-.78.78-.78 2.05 0 2.83L4 21.41c.39.39.9.59 1.41.59.51 0 1.02-.2 1.41-.59l7.78-7.78 2.81-2.81c.8-.78.8-2.07 0-2.86zM5.41 20L4 18.59l7.72-7.72 1.47 1.35L5.41 20z\"/>\n",
              "  </svg>\n",
              "      </button>\n",
              "      \n",
              "  <style>\n",
              "    .colab-df-container {\n",
              "      display:flex;\n",
              "      flex-wrap:wrap;\n",
              "      gap: 12px;\n",
              "    }\n",
              "\n",
              "    .colab-df-convert {\n",
              "      background-color: #E8F0FE;\n",
              "      border: none;\n",
              "      border-radius: 50%;\n",
              "      cursor: pointer;\n",
              "      display: none;\n",
              "      fill: #1967D2;\n",
              "      height: 32px;\n",
              "      padding: 0 0 0 0;\n",
              "      width: 32px;\n",
              "    }\n",
              "\n",
              "    .colab-df-convert:hover {\n",
              "      background-color: #E2EBFA;\n",
              "      box-shadow: 0px 1px 2px rgba(60, 64, 67, 0.3), 0px 1px 3px 1px rgba(60, 64, 67, 0.15);\n",
              "      fill: #174EA6;\n",
              "    }\n",
              "\n",
              "    [theme=dark] .colab-df-convert {\n",
              "      background-color: #3B4455;\n",
              "      fill: #D2E3FC;\n",
              "    }\n",
              "\n",
              "    [theme=dark] .colab-df-convert:hover {\n",
              "      background-color: #434B5C;\n",
              "      box-shadow: 0px 1px 3px 1px rgba(0, 0, 0, 0.15);\n",
              "      filter: drop-shadow(0px 1px 2px rgba(0, 0, 0, 0.3));\n",
              "      fill: #FFFFFF;\n",
              "    }\n",
              "  </style>\n",
              "\n",
              "      <script>\n",
              "        const buttonEl =\n",
              "          document.querySelector('#df-19b91fa0-89ac-408c-a3c9-13edb80ebea0 button.colab-df-convert');\n",
              "        buttonEl.style.display =\n",
              "          google.colab.kernel.accessAllowed ? 'block' : 'none';\n",
              "\n",
              "        async function convertToInteractive(key) {\n",
              "          const element = document.querySelector('#df-19b91fa0-89ac-408c-a3c9-13edb80ebea0');\n",
              "          const dataTable =\n",
              "            await google.colab.kernel.invokeFunction('convertToInteractive',\n",
              "                                                     [key], {});\n",
              "          if (!dataTable) return;\n",
              "\n",
              "          const docLinkHtml = 'Like what you see? Visit the ' +\n",
              "            '<a target=\"_blank\" href=https://colab.research.google.com/notebooks/data_table.ipynb>data table notebook</a>'\n",
              "            + ' to learn more about interactive tables.';\n",
              "          element.innerHTML = '';\n",
              "          dataTable['output_type'] = 'display_data';\n",
              "          await google.colab.output.renderOutput(dataTable, element);\n",
              "          const docLink = document.createElement('div');\n",
              "          docLink.innerHTML = docLinkHtml;\n",
              "          element.appendChild(docLink);\n",
              "        }\n",
              "      </script>\n",
              "    </div>\n",
              "  </div>\n",
              "  "
            ],
            "text/plain": [
              "             category  rating label  \\\n",
              "0  Home_and_Kitchen_5     5.0    CG   \n",
              "1  Home_and_Kitchen_5     5.0    CG   \n",
              "2  Home_and_Kitchen_5     5.0    CG   \n",
              "3  Home_and_Kitchen_5     1.0    CG   \n",
              "4  Home_and_Kitchen_5     5.0    CG   \n",
              "5  Home_and_Kitchen_5     3.0    CG   \n",
              "6  Home_and_Kitchen_5     5.0    CG   \n",
              "7  Home_and_Kitchen_5     3.0    CG   \n",
              "8  Home_and_Kitchen_5     5.0    CG   \n",
              "9  Home_and_Kitchen_5     5.0    CG   \n",
              "\n",
              "                                                text  \n",
              "0  Love this!  Well made, sturdy, and very comfor...  \n",
              "1  love it, a great upgrade from the original.  I...  \n",
              "2  This pillow saved my back. I love the look and...  \n",
              "3  Missing information on how to use it, but it i...  \n",
              "4  Very nice set. Good quality. We have had the s...  \n",
              "5       I WANTED DIFFERENT FLAVORS BUT THEY ARE NOT.  \n",
              "6  They are the perfect touch for me and the only...  \n",
              "7  These done fit well and look great.  I love th...  \n",
              "8  Great big numbers & easy to read, the only thi...  \n",
              "9  My son loves this comforter and it is very wel...  "
            ]
          },
          "metadata": {},
          "execution_count": 15
        }
      ],
      "source": [
        "#@markdown <h3><i>Product Review Dataset\n",
        "import pandas as pd\n",
        "import numpy as np\n",
        "import matplotlib.pyplot as plt\n",
        "\n",
        "# load the dataset\n",
        "\n",
        "data = pd.read_csv('https://raw.githubusercontent.com/Gacrucis/WhoReviewsTheReviews/main/fake_revievs_dataset.csv')\n",
        "data.head(10)"
      ]
    },
    {
      "cell_type": "markdown",
      "source": [
        "\n",
        "## **Extracting Numeric Values From Text** <a name='eje12'></a>\n",
        "\n",
        "Since, in this case, we are working not with numbers but with text, we need to find a way to extract numeric values we can work with in order to train the different. This can be done in several ways which will be presented in this section.\n",
        "\n"
      ],
      "metadata": {
        "id": "rFASQz9KipWD"
      }
    },
    {
      "cell_type": "markdown",
      "source": [
        "\n",
        "### Sentimental Lexicon Dataset <a name='eje121'></a>\n",
        "\n",
        "In order to extract the most out of the text for each of the reviews, we decided to extract the sentimentality value. In this context, sentimentality refers to the positive and negative feelings associated with words. \n",
        "\n",
        "For example, a positive review would contain words like: love, great, perfect. A lot of these words of this sort would imply a positive relationship with the product. In the other hand, words like: bad, sad, hate; would appear more in bad reviews.\n",
        "\n",
        "In order to identify what words had positive or negative connotations, we used a dataset from The University of Chicago that contained both kinds of words. We assigned a value of 1 to positive words and a value of -1 to negative words. Using this, we calculated the sentimentality value for each review on our dataset.\n"
      ],
      "metadata": {
        "id": "LxgdZjEw-tyh"
      }
    },
    {
      "cell_type": "code",
      "source": [
        "#@markdown <h3><i>Sentimental Lexicon Dataset\n",
        "\n",
        "data_lexicon = pd.read_csv('https://raw.githubusercontent.com/Gacrucis/WhoReviewsTheReviews/main/lexicon.csv')\n",
        "data_lexicon"
      ],
      "metadata": {
        "id": "N_wETr-Ridc6",
        "colab": {
          "base_uri": "https://localhost:8080/",
          "height": 424
        },
        "outputId": "bd1da203-cd68-4c1b-e507-ffdecc449e28",
        "cellView": "form"
      },
      "execution_count": null,
      "outputs": [
        {
          "output_type": "execute_result",
          "data": {
            "text/html": [
              "\n",
              "  <div id=\"df-f2a012c8-533c-4751-8735-6a98f14c1cf6\">\n",
              "    <div class=\"colab-df-container\">\n",
              "      <div>\n",
              "<style scoped>\n",
              "    .dataframe tbody tr th:only-of-type {\n",
              "        vertical-align: middle;\n",
              "    }\n",
              "\n",
              "    .dataframe tbody tr th {\n",
              "        vertical-align: top;\n",
              "    }\n",
              "\n",
              "    .dataframe thead th {\n",
              "        text-align: right;\n",
              "    }\n",
              "</style>\n",
              "<table border=\"1\" class=\"dataframe\">\n",
              "  <thead>\n",
              "    <tr style=\"text-align: right;\">\n",
              "      <th></th>\n",
              "      <th>word</th>\n",
              "      <th>value</th>\n",
              "    </tr>\n",
              "  </thead>\n",
              "  <tbody>\n",
              "    <tr>\n",
              "      <th>0</th>\n",
              "      <td>a+</td>\n",
              "      <td>1</td>\n",
              "    </tr>\n",
              "    <tr>\n",
              "      <th>1</th>\n",
              "      <td>abound</td>\n",
              "      <td>1</td>\n",
              "    </tr>\n",
              "    <tr>\n",
              "      <th>2</th>\n",
              "      <td>abounds</td>\n",
              "      <td>1</td>\n",
              "    </tr>\n",
              "    <tr>\n",
              "      <th>3</th>\n",
              "      <td>abundance</td>\n",
              "      <td>1</td>\n",
              "    </tr>\n",
              "    <tr>\n",
              "      <th>4</th>\n",
              "      <td>abundant</td>\n",
              "      <td>1</td>\n",
              "    </tr>\n",
              "    <tr>\n",
              "      <th>...</th>\n",
              "      <td>...</td>\n",
              "      <td>...</td>\n",
              "    </tr>\n",
              "    <tr>\n",
              "      <th>6784</th>\n",
              "      <td>zaps</td>\n",
              "      <td>-1</td>\n",
              "    </tr>\n",
              "    <tr>\n",
              "      <th>6785</th>\n",
              "      <td>zealot</td>\n",
              "      <td>-1</td>\n",
              "    </tr>\n",
              "    <tr>\n",
              "      <th>6786</th>\n",
              "      <td>zealous</td>\n",
              "      <td>-1</td>\n",
              "    </tr>\n",
              "    <tr>\n",
              "      <th>6787</th>\n",
              "      <td>zealously</td>\n",
              "      <td>-1</td>\n",
              "    </tr>\n",
              "    <tr>\n",
              "      <th>6788</th>\n",
              "      <td>zombie</td>\n",
              "      <td>-1</td>\n",
              "    </tr>\n",
              "  </tbody>\n",
              "</table>\n",
              "<p>6789 rows × 2 columns</p>\n",
              "</div>\n",
              "      <button class=\"colab-df-convert\" onclick=\"convertToInteractive('df-f2a012c8-533c-4751-8735-6a98f14c1cf6')\"\n",
              "              title=\"Convert this dataframe to an interactive table.\"\n",
              "              style=\"display:none;\">\n",
              "        \n",
              "  <svg xmlns=\"http://www.w3.org/2000/svg\" height=\"24px\"viewBox=\"0 0 24 24\"\n",
              "       width=\"24px\">\n",
              "    <path d=\"M0 0h24v24H0V0z\" fill=\"none\"/>\n",
              "    <path d=\"M18.56 5.44l.94 2.06.94-2.06 2.06-.94-2.06-.94-.94-2.06-.94 2.06-2.06.94zm-11 1L8.5 8.5l.94-2.06 2.06-.94-2.06-.94L8.5 2.5l-.94 2.06-2.06.94zm10 10l.94 2.06.94-2.06 2.06-.94-2.06-.94-.94-2.06-.94 2.06-2.06.94z\"/><path d=\"M17.41 7.96l-1.37-1.37c-.4-.4-.92-.59-1.43-.59-.52 0-1.04.2-1.43.59L10.3 9.45l-7.72 7.72c-.78.78-.78 2.05 0 2.83L4 21.41c.39.39.9.59 1.41.59.51 0 1.02-.2 1.41-.59l7.78-7.78 2.81-2.81c.8-.78.8-2.07 0-2.86zM5.41 20L4 18.59l7.72-7.72 1.47 1.35L5.41 20z\"/>\n",
              "  </svg>\n",
              "      </button>\n",
              "      \n",
              "  <style>\n",
              "    .colab-df-container {\n",
              "      display:flex;\n",
              "      flex-wrap:wrap;\n",
              "      gap: 12px;\n",
              "    }\n",
              "\n",
              "    .colab-df-convert {\n",
              "      background-color: #E8F0FE;\n",
              "      border: none;\n",
              "      border-radius: 50%;\n",
              "      cursor: pointer;\n",
              "      display: none;\n",
              "      fill: #1967D2;\n",
              "      height: 32px;\n",
              "      padding: 0 0 0 0;\n",
              "      width: 32px;\n",
              "    }\n",
              "\n",
              "    .colab-df-convert:hover {\n",
              "      background-color: #E2EBFA;\n",
              "      box-shadow: 0px 1px 2px rgba(60, 64, 67, 0.3), 0px 1px 3px 1px rgba(60, 64, 67, 0.15);\n",
              "      fill: #174EA6;\n",
              "    }\n",
              "\n",
              "    [theme=dark] .colab-df-convert {\n",
              "      background-color: #3B4455;\n",
              "      fill: #D2E3FC;\n",
              "    }\n",
              "\n",
              "    [theme=dark] .colab-df-convert:hover {\n",
              "      background-color: #434B5C;\n",
              "      box-shadow: 0px 1px 3px 1px rgba(0, 0, 0, 0.15);\n",
              "      filter: drop-shadow(0px 1px 2px rgba(0, 0, 0, 0.3));\n",
              "      fill: #FFFFFF;\n",
              "    }\n",
              "  </style>\n",
              "\n",
              "      <script>\n",
              "        const buttonEl =\n",
              "          document.querySelector('#df-f2a012c8-533c-4751-8735-6a98f14c1cf6 button.colab-df-convert');\n",
              "        buttonEl.style.display =\n",
              "          google.colab.kernel.accessAllowed ? 'block' : 'none';\n",
              "\n",
              "        async function convertToInteractive(key) {\n",
              "          const element = document.querySelector('#df-f2a012c8-533c-4751-8735-6a98f14c1cf6');\n",
              "          const dataTable =\n",
              "            await google.colab.kernel.invokeFunction('convertToInteractive',\n",
              "                                                     [key], {});\n",
              "          if (!dataTable) return;\n",
              "\n",
              "          const docLinkHtml = 'Like what you see? Visit the ' +\n",
              "            '<a target=\"_blank\" href=https://colab.research.google.com/notebooks/data_table.ipynb>data table notebook</a>'\n",
              "            + ' to learn more about interactive tables.';\n",
              "          element.innerHTML = '';\n",
              "          dataTable['output_type'] = 'display_data';\n",
              "          await google.colab.output.renderOutput(dataTable, element);\n",
              "          const docLink = document.createElement('div');\n",
              "          docLink.innerHTML = docLinkHtml;\n",
              "          element.appendChild(docLink);\n",
              "        }\n",
              "      </script>\n",
              "    </div>\n",
              "  </div>\n",
              "  "
            ],
            "text/plain": [
              "           word   value\n",
              "0            a+       1\n",
              "1        abound       1\n",
              "2       abounds       1\n",
              "3     abundance       1\n",
              "4      abundant       1\n",
              "...         ...     ...\n",
              "6784       zaps      -1\n",
              "6785     zealot      -1\n",
              "6786    zealous      -1\n",
              "6787  zealously      -1\n",
              "6788     zombie      -1\n",
              "\n",
              "[6789 rows x 2 columns]"
            ]
          },
          "metadata": {},
          "execution_count": 16
        }
      ]
    },
    {
      "cell_type": "markdown",
      "source": [
        "### Words, Characters and Repetitions <a name='eje122'></a>\n",
        "\n",
        "Next, it was established that we need to extract some of the basic components of how the text was written in terms of length, total words and characters of the review; and the repetition value, which is the total amount of words divided by the number of unique words in the review.  With these three values, we were expecting to increase the available information to our classifiers and be able to correctly classify each of the product reviews.\n",
        "\n",
        "In the end, we expected each row of out dataset to look like this:\n",
        "\n",
        "|  | category | rating | label | text | sentiment_positive | sentiment_negative | sentiment_value | word_amount | char_amount | repetition_value |\n",
        "|---|---|---|---|---|---|---|---|---|---|---|\n",
        "| 0 | Home_and_Kitchen_5 | 5.0 | CG | Love this!  Well made, sturdy, and very comfortable.  I love it!Very pretty | 6 | 0 | 6 | 13 | 75 | 1.181818"
      ],
      "metadata": {
        "id": "GEgqMcQ77Epf"
      }
    },
    {
      "cell_type": "markdown",
      "source": [
        "## **Preprocessing The Dataset** <a name='eje13'></a>\n",
        "\n",
        "In order to work with each of the product reviews, a preprocessing step was needed in order to normalize the text in so all numerical values planned to be extracted could be without any complications. The following is an example of how this was done."
      ],
      "metadata": {
        "id": "hikK-4SPs6Pc"
      }
    },
    {
      "cell_type": "code",
      "source": [
        "# We create a list containing most of the used punctuation symbols used on English\n",
        "punctuations = [',', '.', '?', '¿', '!', '@', '$', '(', ')', ':', ';', '/', '%', '#', '\"', \"'\"]\n",
        "\n",
        "# We take the text of one of the reviews in the dataset\n",
        "example_text = data.values[0, 3]\n",
        "text_ws = example_text\n",
        "print('Text with symbols:')\n",
        "print(example_text)\n",
        "\n",
        "# Then, for each symbol on out punctuations list, we replace each of them with a space\n",
        "for punc in punctuations:\n",
        "    text_ws = text_ws.replace(punc, ' ')\n",
        "\n",
        "# This gives us the text without any punctuation symbols\n",
        "print('\\nText without symbols:')\n",
        "print(text_ws)\n",
        "\n",
        "# We split the text review into words using each space as our guide\n",
        "print('\\nSeparate each word:')\n",
        "words = text_ws.split(' ')\n",
        "print(words)\n",
        "\n",
        "# And finally, we remove all the '' instances from the separated word list and lowercase them\n",
        "print('\\nClean the end result:')\n",
        "words = [word.lower() for word in words if word != '']\n",
        "print(words)"
      ],
      "metadata": {
        "id": "_1M3EuCLvOrg",
        "colab": {
          "base_uri": "https://localhost:8080/"
        },
        "outputId": "8e88350a-bee5-4c5d-c16c-badbd98174e1"
      },
      "execution_count": null,
      "outputs": [
        {
          "output_type": "stream",
          "name": "stdout",
          "text": [
            "Text with symbols:\n",
            "Love this!  Well made, sturdy, and very comfortable.  I love it!Very pretty\n",
            "\n",
            "Text without symbols:\n",
            "Love this   Well made  sturdy  and very comfortable   I love it Very pretty\n",
            "\n",
            "Separate each word:\n",
            "['Love', 'this', '', '', 'Well', 'made', '', 'sturdy', '', 'and', 'very', 'comfortable', '', '', 'I', 'love', 'it', 'Very', 'pretty']\n",
            "\n",
            "Clean the end result:\n",
            "['love', 'this', 'well', 'made', 'sturdy', 'and', 'very', 'comfortable', 'i', 'love', 'it', 'very', 'pretty']\n"
          ]
        }
      ]
    },
    {
      "cell_type": "markdown",
      "source": [
        "With this now clear, we can begin extracting all of the numerical values from our dataset."
      ],
      "metadata": {
        "id": "-edxrM8OHoFO"
      }
    },
    {
      "cell_type": "markdown",
      "source": [
        "## **Extraction Process** <a name='eje14'></a>\n",
        "\n",
        "\n",
        "With our preprocessing steps ready and the numerical values we want to extract defined, we can now do the actual extraction of the data planned to be used to train each of the classifiers available. The following block of code has the objective of both preprocessing and calculating each of the columns defined in the [Extracting Numeric Values From Text](#eje12) section."
      ],
      "metadata": {
        "id": "iI9FAlkVHw0N"
      }
    },
    {
      "cell_type": "code",
      "source": [
        "# We take all the values on the `text` column from the dataset\n",
        "texts = data['text']\n",
        "\n",
        "# And parse the lexicon dataset into a python dict due to optimization patterns\n",
        "lexicon_dict = {word: value for word, value in data_lexicon.values}\n",
        "\n",
        "# We then create all the lists that will contain all the numerical values we extract from the dataset\n",
        "sentimentalities = []\n",
        "sentimentalitiesPositive = []\n",
        "sentimentalitiesNegative = []\n",
        "char_amounts = []\n",
        "word_amounts = []\n",
        "repetitions = []\n",
        "\n",
        "# Now, the extraction process can begin\n",
        "for text in texts:\n",
        "    # Some basic constants are defined\n",
        "    sentimentality = 0\n",
        "    positive = 0\n",
        "    negative = 0\n",
        "\n",
        "    # this block represents the preprocessing section of the text\n",
        "    for punc in punctuations:\n",
        "        text = text.replace(punc, ' ')\n",
        "    text = text.strip()\n",
        "    words = text.split(' ')\n",
        "    words = [word.lower() for word in words if word != '']\n",
        "\n",
        "    # We begin by extracting the sentimental values of our dataset\n",
        "    for word in words:\n",
        "        # If the word has a positive connotation\n",
        "        if lexicon_dict.get(word, 0) > 0:\n",
        "            sentimentality += 1\n",
        "            positive += 1\n",
        "        # else if the connotation is negative\n",
        "        elif lexicon_dict.get(word, 0) < 0:\n",
        "            sentimentality -= 1\n",
        "            negative -= 1\n",
        "        # else if the word is not present in the lexicon dict, no value is added\n",
        "        \n",
        "\n",
        "    # We extract the char count from the text\n",
        "    char_amount = len(text)\n",
        "\n",
        "    # The total words of the preprocessed text\n",
        "    word_amount = len(words)\n",
        "\n",
        "    # Finally, we calculate the repetition value\n",
        "    repetition = word_amount/max((len(np.unique(words)), 1))\n",
        "\n",
        "    # All of the values calculated are added to the lists\n",
        "    sentimentalities.append(sentimentality)\n",
        "    sentimentalitiesPositive.append(positive)\n",
        "    sentimentalitiesNegative.append(negative)\n",
        "    char_amounts.append(char_amount)\n",
        "    word_amounts.append(word_amount)\n",
        "    repetitions.append(repetition)\n",
        "\n",
        "# In the end we add all the new colums to the original dataset\n",
        "data['sentiment_positive'] = sentimentalitiesPositive #type: ignore\n",
        "data['sentiment_negative'] = sentimentalitiesNegative #type: ignore\n",
        "data['sentiment_value'] = sentimentalities #type: ignore\n",
        "data['word_amount'] = word_amounts #type: ignore\n",
        "data['char_amount'] = char_amounts #type: ignore\n",
        "data['repetition_value'] = repetitions #type: ignore\n",
        "\n",
        "data"
      ],
      "metadata": {
        "id": "wSkK24x61m4I",
        "colab": {
          "base_uri": "https://localhost:8080/",
          "height": 424
        },
        "outputId": "8a308979-ffa7-4d24-d2a8-b584463ae41d"
      },
      "execution_count": null,
      "outputs": [
        {
          "output_type": "execute_result",
          "data": {
            "text/html": [
              "\n",
              "  <div id=\"df-2d9d3907-eb88-4530-a788-1d978a93abda\">\n",
              "    <div class=\"colab-df-container\">\n",
              "      <div>\n",
              "<style scoped>\n",
              "    .dataframe tbody tr th:only-of-type {\n",
              "        vertical-align: middle;\n",
              "    }\n",
              "\n",
              "    .dataframe tbody tr th {\n",
              "        vertical-align: top;\n",
              "    }\n",
              "\n",
              "    .dataframe thead th {\n",
              "        text-align: right;\n",
              "    }\n",
              "</style>\n",
              "<table border=\"1\" class=\"dataframe\">\n",
              "  <thead>\n",
              "    <tr style=\"text-align: right;\">\n",
              "      <th></th>\n",
              "      <th>category</th>\n",
              "      <th>rating</th>\n",
              "      <th>label</th>\n",
              "      <th>text</th>\n",
              "      <th>sentiment_positive</th>\n",
              "      <th>sentiment_negative</th>\n",
              "      <th>sentiment_value</th>\n",
              "      <th>word_amount</th>\n",
              "      <th>char_amount</th>\n",
              "      <th>repetition_value</th>\n",
              "    </tr>\n",
              "  </thead>\n",
              "  <tbody>\n",
              "    <tr>\n",
              "      <th>0</th>\n",
              "      <td>Home_and_Kitchen_5</td>\n",
              "      <td>5.0</td>\n",
              "      <td>CG</td>\n",
              "      <td>Love this!  Well made, sturdy, and very comfor...</td>\n",
              "      <td>6</td>\n",
              "      <td>0</td>\n",
              "      <td>6</td>\n",
              "      <td>13</td>\n",
              "      <td>75</td>\n",
              "      <td>1.181818</td>\n",
              "    </tr>\n",
              "    <tr>\n",
              "      <th>1</th>\n",
              "      <td>Home_and_Kitchen_5</td>\n",
              "      <td>5.0</td>\n",
              "      <td>CG</td>\n",
              "      <td>love it, a great upgrade from the original.  I...</td>\n",
              "      <td>2</td>\n",
              "      <td>0</td>\n",
              "      <td>2</td>\n",
              "      <td>17</td>\n",
              "      <td>80</td>\n",
              "      <td>1.062500</td>\n",
              "    </tr>\n",
              "    <tr>\n",
              "      <th>2</th>\n",
              "      <td>Home_and_Kitchen_5</td>\n",
              "      <td>5.0</td>\n",
              "      <td>CG</td>\n",
              "      <td>This pillow saved my back. I love the look and...</td>\n",
              "      <td>1</td>\n",
              "      <td>0</td>\n",
              "      <td>1</td>\n",
              "      <td>14</td>\n",
              "      <td>66</td>\n",
              "      <td>1.166667</td>\n",
              "    </tr>\n",
              "    <tr>\n",
              "      <th>3</th>\n",
              "      <td>Home_and_Kitchen_5</td>\n",
              "      <td>1.0</td>\n",
              "      <td>CG</td>\n",
              "      <td>Missing information on how to use it, but it i...</td>\n",
              "      <td>1</td>\n",
              "      <td>0</td>\n",
              "      <td>1</td>\n",
              "      <td>17</td>\n",
              "      <td>81</td>\n",
              "      <td>1.062500</td>\n",
              "    </tr>\n",
              "    <tr>\n",
              "      <th>4</th>\n",
              "      <td>Home_and_Kitchen_5</td>\n",
              "      <td>5.0</td>\n",
              "      <td>CG</td>\n",
              "      <td>Very nice set. Good quality. We have had the s...</td>\n",
              "      <td>2</td>\n",
              "      <td>0</td>\n",
              "      <td>2</td>\n",
              "      <td>18</td>\n",
              "      <td>85</td>\n",
              "      <td>1.125000</td>\n",
              "    </tr>\n",
              "    <tr>\n",
              "      <th>...</th>\n",
              "      <td>...</td>\n",
              "      <td>...</td>\n",
              "      <td>...</td>\n",
              "      <td>...</td>\n",
              "      <td>...</td>\n",
              "      <td>...</td>\n",
              "      <td>...</td>\n",
              "      <td>...</td>\n",
              "      <td>...</td>\n",
              "      <td>...</td>\n",
              "    </tr>\n",
              "    <tr>\n",
              "      <th>40427</th>\n",
              "      <td>Clothing_Shoes_and_Jewelry_5</td>\n",
              "      <td>4.0</td>\n",
              "      <td>OR</td>\n",
              "      <td>I had read some reviews saying that this bra r...</td>\n",
              "      <td>13</td>\n",
              "      <td>-6</td>\n",
              "      <td>7</td>\n",
              "      <td>338</td>\n",
              "      <td>1693</td>\n",
              "      <td>1.931429</td>\n",
              "    </tr>\n",
              "    <tr>\n",
              "      <th>40428</th>\n",
              "      <td>Clothing_Shoes_and_Jewelry_5</td>\n",
              "      <td>5.0</td>\n",
              "      <td>CG</td>\n",
              "      <td>I wasn't sure exactly what it would be. It is ...</td>\n",
              "      <td>26</td>\n",
              "      <td>-1</td>\n",
              "      <td>25</td>\n",
              "      <td>280</td>\n",
              "      <td>1303</td>\n",
              "      <td>2.545455</td>\n",
              "    </tr>\n",
              "    <tr>\n",
              "      <th>40429</th>\n",
              "      <td>Clothing_Shoes_and_Jewelry_5</td>\n",
              "      <td>2.0</td>\n",
              "      <td>OR</td>\n",
              "      <td>You can wear the hood by itself, wear it with ...</td>\n",
              "      <td>8</td>\n",
              "      <td>-4</td>\n",
              "      <td>4</td>\n",
              "      <td>352</td>\n",
              "      <td>1986</td>\n",
              "      <td>1.652582</td>\n",
              "    </tr>\n",
              "    <tr>\n",
              "      <th>40430</th>\n",
              "      <td>Clothing_Shoes_and_Jewelry_5</td>\n",
              "      <td>1.0</td>\n",
              "      <td>CG</td>\n",
              "      <td>I liked nothing about this dress. The only rea...</td>\n",
              "      <td>30</td>\n",
              "      <td>0</td>\n",
              "      <td>30</td>\n",
              "      <td>302</td>\n",
              "      <td>1299</td>\n",
              "      <td>2.770642</td>\n",
              "    </tr>\n",
              "    <tr>\n",
              "      <th>40431</th>\n",
              "      <td>Clothing_Shoes_and_Jewelry_5</td>\n",
              "      <td>5.0</td>\n",
              "      <td>OR</td>\n",
              "      <td>I work in the wedding industry and have to wor...</td>\n",
              "      <td>18</td>\n",
              "      <td>-9</td>\n",
              "      <td>9</td>\n",
              "      <td>355</td>\n",
              "      <td>1767</td>\n",
              "      <td>2.113095</td>\n",
              "    </tr>\n",
              "  </tbody>\n",
              "</table>\n",
              "<p>40432 rows × 10 columns</p>\n",
              "</div>\n",
              "      <button class=\"colab-df-convert\" onclick=\"convertToInteractive('df-2d9d3907-eb88-4530-a788-1d978a93abda')\"\n",
              "              title=\"Convert this dataframe to an interactive table.\"\n",
              "              style=\"display:none;\">\n",
              "        \n",
              "  <svg xmlns=\"http://www.w3.org/2000/svg\" height=\"24px\"viewBox=\"0 0 24 24\"\n",
              "       width=\"24px\">\n",
              "    <path d=\"M0 0h24v24H0V0z\" fill=\"none\"/>\n",
              "    <path d=\"M18.56 5.44l.94 2.06.94-2.06 2.06-.94-2.06-.94-.94-2.06-.94 2.06-2.06.94zm-11 1L8.5 8.5l.94-2.06 2.06-.94-2.06-.94L8.5 2.5l-.94 2.06-2.06.94zm10 10l.94 2.06.94-2.06 2.06-.94-2.06-.94-.94-2.06-.94 2.06-2.06.94z\"/><path d=\"M17.41 7.96l-1.37-1.37c-.4-.4-.92-.59-1.43-.59-.52 0-1.04.2-1.43.59L10.3 9.45l-7.72 7.72c-.78.78-.78 2.05 0 2.83L4 21.41c.39.39.9.59 1.41.59.51 0 1.02-.2 1.41-.59l7.78-7.78 2.81-2.81c.8-.78.8-2.07 0-2.86zM5.41 20L4 18.59l7.72-7.72 1.47 1.35L5.41 20z\"/>\n",
              "  </svg>\n",
              "      </button>\n",
              "      \n",
              "  <style>\n",
              "    .colab-df-container {\n",
              "      display:flex;\n",
              "      flex-wrap:wrap;\n",
              "      gap: 12px;\n",
              "    }\n",
              "\n",
              "    .colab-df-convert {\n",
              "      background-color: #E8F0FE;\n",
              "      border: none;\n",
              "      border-radius: 50%;\n",
              "      cursor: pointer;\n",
              "      display: none;\n",
              "      fill: #1967D2;\n",
              "      height: 32px;\n",
              "      padding: 0 0 0 0;\n",
              "      width: 32px;\n",
              "    }\n",
              "\n",
              "    .colab-df-convert:hover {\n",
              "      background-color: #E2EBFA;\n",
              "      box-shadow: 0px 1px 2px rgba(60, 64, 67, 0.3), 0px 1px 3px 1px rgba(60, 64, 67, 0.15);\n",
              "      fill: #174EA6;\n",
              "    }\n",
              "\n",
              "    [theme=dark] .colab-df-convert {\n",
              "      background-color: #3B4455;\n",
              "      fill: #D2E3FC;\n",
              "    }\n",
              "\n",
              "    [theme=dark] .colab-df-convert:hover {\n",
              "      background-color: #434B5C;\n",
              "      box-shadow: 0px 1px 3px 1px rgba(0, 0, 0, 0.15);\n",
              "      filter: drop-shadow(0px 1px 2px rgba(0, 0, 0, 0.3));\n",
              "      fill: #FFFFFF;\n",
              "    }\n",
              "  </style>\n",
              "\n",
              "      <script>\n",
              "        const buttonEl =\n",
              "          document.querySelector('#df-2d9d3907-eb88-4530-a788-1d978a93abda button.colab-df-convert');\n",
              "        buttonEl.style.display =\n",
              "          google.colab.kernel.accessAllowed ? 'block' : 'none';\n",
              "\n",
              "        async function convertToInteractive(key) {\n",
              "          const element = document.querySelector('#df-2d9d3907-eb88-4530-a788-1d978a93abda');\n",
              "          const dataTable =\n",
              "            await google.colab.kernel.invokeFunction('convertToInteractive',\n",
              "                                                     [key], {});\n",
              "          if (!dataTable) return;\n",
              "\n",
              "          const docLinkHtml = 'Like what you see? Visit the ' +\n",
              "            '<a target=\"_blank\" href=https://colab.research.google.com/notebooks/data_table.ipynb>data table notebook</a>'\n",
              "            + ' to learn more about interactive tables.';\n",
              "          element.innerHTML = '';\n",
              "          dataTable['output_type'] = 'display_data';\n",
              "          await google.colab.output.renderOutput(dataTable, element);\n",
              "          const docLink = document.createElement('div');\n",
              "          docLink.innerHTML = docLinkHtml;\n",
              "          element.appendChild(docLink);\n",
              "        }\n",
              "      </script>\n",
              "    </div>\n",
              "  </div>\n",
              "  "
            ],
            "text/plain": [
              "                           category  rating label  \\\n",
              "0                Home_and_Kitchen_5     5.0    CG   \n",
              "1                Home_and_Kitchen_5     5.0    CG   \n",
              "2                Home_and_Kitchen_5     5.0    CG   \n",
              "3                Home_and_Kitchen_5     1.0    CG   \n",
              "4                Home_and_Kitchen_5     5.0    CG   \n",
              "...                             ...     ...   ...   \n",
              "40427  Clothing_Shoes_and_Jewelry_5     4.0    OR   \n",
              "40428  Clothing_Shoes_and_Jewelry_5     5.0    CG   \n",
              "40429  Clothing_Shoes_and_Jewelry_5     2.0    OR   \n",
              "40430  Clothing_Shoes_and_Jewelry_5     1.0    CG   \n",
              "40431  Clothing_Shoes_and_Jewelry_5     5.0    OR   \n",
              "\n",
              "                                                    text  sentiment_positive  \\\n",
              "0      Love this!  Well made, sturdy, and very comfor...                   6   \n",
              "1      love it, a great upgrade from the original.  I...                   2   \n",
              "2      This pillow saved my back. I love the look and...                   1   \n",
              "3      Missing information on how to use it, but it i...                   1   \n",
              "4      Very nice set. Good quality. We have had the s...                   2   \n",
              "...                                                  ...                 ...   \n",
              "40427  I had read some reviews saying that this bra r...                  13   \n",
              "40428  I wasn't sure exactly what it would be. It is ...                  26   \n",
              "40429  You can wear the hood by itself, wear it with ...                   8   \n",
              "40430  I liked nothing about this dress. The only rea...                  30   \n",
              "40431  I work in the wedding industry and have to wor...                  18   \n",
              "\n",
              "       sentiment_negative  sentiment_value  word_amount  char_amount  \\\n",
              "0                       0                6           13           75   \n",
              "1                       0                2           17           80   \n",
              "2                       0                1           14           66   \n",
              "3                       0                1           17           81   \n",
              "4                       0                2           18           85   \n",
              "...                   ...              ...          ...          ...   \n",
              "40427                  -6                7          338         1693   \n",
              "40428                  -1               25          280         1303   \n",
              "40429                  -4                4          352         1986   \n",
              "40430                   0               30          302         1299   \n",
              "40431                  -9                9          355         1767   \n",
              "\n",
              "       repetition_value  \n",
              "0              1.181818  \n",
              "1              1.062500  \n",
              "2              1.166667  \n",
              "3              1.062500  \n",
              "4              1.125000  \n",
              "...                 ...  \n",
              "40427          1.931429  \n",
              "40428          2.545455  \n",
              "40429          1.652582  \n",
              "40430          2.770642  \n",
              "40431          2.113095  \n",
              "\n",
              "[40432 rows x 10 columns]"
            ]
          },
          "metadata": {},
          "execution_count": 18
        }
      ]
    },
    {
      "cell_type": "markdown",
      "source": [
        "# **2. Training The Classifiers** <a name='eje2'></a>\n",
        "\n",
        "\n",
        "Now that we have all the numerical values we extracted from the text, we can use the calculated values to train some of the avalible classifiers. After everythin is ready, we'll be able to gauge the effectiveness of each of the extracted values from the text while trying to determine the reason behind the weight behind each of the columns used to classify each of the product reviews.\n",
        "\n",
        "Before we can begin, one last step is required in order to start training each of the classifiers. We need to replace the labels with a numerical value and define the features that will be used in training. "
      ],
      "metadata": {
        "id": "GU5jwXYROcpt"
      }
    },
    {
      "cell_type": "code",
      "source": [
        "from sklearn.model_selection import train_test_split\n",
        "\n",
        "# Simple replace operation on our label column\n",
        "data.replace(to_replace='CG', value=0)\n",
        "data.replace(to_replace='OR', value=1)\n",
        "\n",
        "# We take all of the numerical columns from our dataset.\n",
        "features = ['rating', 'word_amount', 'char_amount', 'sentiment_value', 'sentiment_positive', 'sentiment_negative', 'repetition_value']\n",
        "\n",
        "# And we split the dataset in it's features and it's groundtruth\n",
        "X = data[features]\n",
        "y = data['label']"
      ],
      "metadata": {
        "id": "HWz2MGSGUJoi"
      },
      "execution_count": null,
      "outputs": []
    },
    {
      "cell_type": "markdown",
      "source": [
        "Now, with this last step done, we can begin our training and testing process."
      ],
      "metadata": {
        "id": "aIK-C1ReVV0G"
      }
    },
    {
      "cell_type": "markdown",
      "source": [
        "## **Desicion Tree Classifiers** <a name='eje21'></a>\n",
        "\n",
        "\n",
        "One of the most used classfiers due their nature are Desicion Tree Classfiers, this is due to the general speed they have in the creation of their model. In this case, we decided to vary the depth of the trees in order to gauge how good they were. For this test, we decided to test with depth values 5, 10, 15 and 20 with a `test_size` of 20%.\n",
        "\n",
        "The follwing block of code shows this training and testing process:"
      ],
      "metadata": {
        "id": "3emcPONXR4Lr"
      }
    },
    {
      "cell_type": "code",
      "source": [
        "from sklearn.tree import DecisionTreeClassifier\n",
        "\n",
        "# Using train_test_split, we split the dataset with a test_size of 20%\n",
        "x_train, x_test, y_train, y_test = train_test_split(X, y, test_size=0.2)\n",
        "\n",
        "desTrees = []\n",
        "\n",
        "for depth in [5, 10, 15, 20]:\n",
        "    # We create our estimator\n",
        "    estTree = DecisionTreeClassifier(max_depth=depth)\n",
        "\n",
        "    # Fitting time\n",
        "    estTree.fit(x_train, y_train)\n",
        "\n",
        "    # We save the generated model\n",
        "    desTrees.append(estTree)\n",
        "\n",
        "    # The the model score\n",
        "    score = estTree.score(x_test, y_test)\n",
        "    print(f'Score with depth {depth}: {score}.')"
      ],
      "metadata": {
        "colab": {
          "base_uri": "https://localhost:8080/"
        },
        "id": "jU3CSnrNUAKy",
        "outputId": "ca1bd35a-eaa3-4fc7-e2d3-ce8e929ba6b5"
      },
      "execution_count": null,
      "outputs": [
        {
          "output_type": "stream",
          "name": "stdout",
          "text": [
            "Score with depth 5: 0.7218993446271794.\n",
            "Score with depth 10: 0.809818226783727.\n",
            "Score with depth 15: 0.7939903548905651.\n",
            "Score with depth 20: 0.7695066155558303.\n"
          ]
        }
      ]
    },
    {
      "cell_type": "markdown",
      "source": [
        "As an aditional measure we were looking to find what features are the most important during the classification process. In order to determine this, we'll be using the `feature_importances_` to determine what were the most relevant features in average."
      ],
      "metadata": {
        "id": "fa68Hxp6hT5W"
      }
    },
    {
      "cell_type": "code",
      "source": [
        "mean_features = []\n",
        "for index, _feature in enumerate(features):\n",
        "    feat = 0\n",
        "    for tree in desTrees:\n",
        "        feat += tree.feature_importances_[index]\n",
        "    \n",
        "    mean_features.append(feat/len(desTrees))\n",
        "\n",
        "features = np.array(features)\n",
        "mean_features = np.array(mean_features)\n",
        "\n",
        "plt.barh(features[np.argsort(mean_features)], mean_features[np.argsort(mean_features)]); \n",
        "plt.xlabel(\"Feature Importance\")"
      ],
      "metadata": {
        "colab": {
          "base_uri": "https://localhost:8080/",
          "height": 265
        },
        "id": "LIpx7Wt6jRBx",
        "outputId": "7ca654e0-6b93-412c-9de1-a1c4d0bf6fb4"
      },
      "execution_count": null,
      "outputs": [
        {
          "output_type": "display_data",
          "data": {
            "image/png": "[encoded data removed]",
            "text/plain": [
              "<Figure size 432x288 with 1 Axes>"
            ]
          },
          "metadata": {
            "needs_background": "light"
          }
        }
      ]
    },
    {
      "cell_type": "markdown",
      "source": [
        "In average, we can see than the most important features are `repetition_value` and `char_amount`. Although we can't be certain of why the model chose those values over things like `sentimentality` or `word_amount`, we could make a guess that the reason it saw `repetition_value` and `char_amount` as their main differentiator. In this case, we could see this two features as relatively connected as a higher `repetition_value` could be expected in shorter reviews which, by the looks of it, seems to be the case with most computer generated reviews. "
      ],
      "metadata": {
        "id": "kbf7f9xSt0V4"
      }
    },
    {
      "cell_type": "markdown",
      "source": [
        "## **Support Vector Classifiers** <a name='eje22'></a>\n",
        "\n",
        "Similar to [Decision Tree Classifiers](#eje21), Support Vector Machines are really considered good when classification problems are set. In this case, we decided to use `SVC` as a mean to classify the different kinds of machines due to them being considered more robust in general. In this case, we'll be variating the `C` parameter on out `SVC` estimators.\n"
      ],
      "metadata": {
        "id": "i_Tb7puIThap"
      }
    },
    {
      "cell_type": "code",
      "source": [
        "from sklearn.svm import SVC\n",
        "from sklearn.inspection import permutation_importance\n",
        "\n",
        "for c in [1, 5, 10, 15]:\n",
        "    # Create the estimator\n",
        "    est = SVC(C=c)\n",
        "\n",
        "    # Fit the estimator\n",
        "    est.fit(x_train, y_train)\n",
        "\n",
        "    # Get the score\n",
        "    score = est.score(x_test, y_test)\n",
        "\n",
        "    print(f'Puntaje con test {c} : {score}.')"
      ],
      "metadata": {
        "id": "qoYruz8i7fUp",
        "colab": {
          "base_uri": "https://localhost:8080/"
        },
        "outputId": "dd7bb038-4107-41e4-e1d5-772e76081dc4"
      },
      "execution_count": null,
      "outputs": [
        {
          "output_type": "stream",
          "name": "stdout",
          "text": [
            "Puntaje con test 1 : 0.683566217385928.\n",
            "Puntaje con test 5 : 0.7060714727340176.\n",
            "Puntaje con test 10 : 0.7101520959564733.\n",
            "Puntaje con test 15 : 0.7141090639297638.\n"
          ]
        }
      ]
    },
    {
      "cell_type": "markdown",
      "source": [
        "The first thing to be noticed is how the scores of the `SVC` are lower to the ones achived by the [Decision Tree Classifiers](#eje21). This, to be honest, was quite unexpected as the main reason to use a `SVC` falls into them being more robust in classification terms. In order to gauge why the SVCs weren't as efective as their Tree conterpats, we looked at what the `SVC` found to be the most important features during the classification process.\n"
      ],
      "metadata": {
        "id": "QxpXmRuz2hrV"
      }
    },
    {
      "cell_type": "code",
      "source": [
        "perm_importance = permutation_importance(est, x_test, y_test)\n",
        "\n",
        "sorted_idx = perm_importance.importances_mean.argsort()\n",
        "plt.barh(features[sorted_idx], perm_importance.importances_mean[sorted_idx]);\n",
        "plt.xlabel(\"Permutation Importance\")"
      ],
      "metadata": {
        "colab": {
          "base_uri": "https://localhost:8080/",
          "height": 296
        },
        "id": "pi3ebsPD2dcz",
        "outputId": "7c64191b-9a84-48e7-c3ee-e4df0c759136"
      },
      "execution_count": null,
      "outputs": [
        {
          "output_type": "execute_result",
          "data": {
            "text/plain": [
              "Text(0.5, 0, 'Permutation Importance')"
            ]
          },
          "metadata": {},
          "execution_count": 50
        },
        {
          "output_type": "display_data",
          "data": {
            "image/png": "[encoded data removed]",
            "text/plain": [
              "<Figure size 432x288 with 1 Axes>"
            ]
          },
          "metadata": {
            "needs_background": "light"
          }
        }
      ]
    },
    {
      "cell_type": "markdown",
      "source": [
        "As it can be seen, the `SVC` decided to use different features as the main differentiators. In this case, `char_amount` and `word_amount` where the main features used. \n",
        "\n",
        "Once again, we can't really know why the `SVC` decided to use those features as to have higher importance but we could guess that it falls into computer generated reviews usually being shorter than actual human reviews. "
      ],
      "metadata": {
        "id": "ymJvl_0n3W_k"
      }
    },
    {
      "cell_type": "markdown",
      "source": [
        "## **Cross Validation** <a name='eje23'></a>\n",
        "\n",
        "Finally we decided to apply cross validation in order to check on each of the estimators that gave the best scores from both [Decision Tree Classifiers](#eje21) and [Support Vector Classifiers](#eje22). \n",
        "\n",
        "First, let's do cross validaton with the Decision Tree Classifier with a depth of 10."
      ],
      "metadata": {
        "id": "VbgGwfGtek3q"
      }
    },
    {
      "cell_type": "code",
      "source": [
        "from sklearn.model_selection import KFold\n",
        "from sklearn.model_selection import cross_val_score\n",
        "from sklearn.metrics import accuracy_score, make_scorer\n",
        "\n",
        "X = data[features]\n",
        "y = data['label']\n",
        "\n",
        "treeEst = DecisionTreeClassifier(max_depth=10)\n",
        "\n",
        "s = cross_val_score(treeEst, X, y, cv=KFold(10, shuffle=True), scoring=make_scorer(accuracy_score))\n",
        "print (s)\n",
        "print (\"accuracy %.3f (+/- %.5f)\"%(np.mean(s), np.std(s)))"
      ],
      "metadata": {
        "colab": {
          "base_uri": "https://localhost:8080/"
        },
        "id": "kwmQE4Zzej6g",
        "outputId": "5c92fb15-3339-4a7e-cbc3-93c89c4a8f8b"
      },
      "execution_count": null,
      "outputs": [
        {
          "output_type": "stream",
          "name": "stdout",
          "text": [
            "[0.80934718 0.81132542 0.81647292 0.81721494 0.81647292 0.82290378\n",
            " 0.808558   0.80534257 0.80089043 0.81152609]\n",
            "accuracy 0.812 (+/- 0.00611)\n"
          ]
        }
      ]
    },
    {
      "cell_type": "markdown",
      "source": [
        "As it can be seen, the `treeEst` has a average accuracy of 81.2% which gives us a really good score. From this, we could be relatively certain of if a product review is real or not. \n",
        "\n",
        "Next, we'll repeat the process with the best `SVC` estimator. In this case, that would be a Support Vector Classifier with `C = 15`."
      ],
      "metadata": {
        "id": "kUjrwod58PWk"
      }
    },
    {
      "cell_type": "code",
      "source": [
        "X = data[features]\n",
        "y = data['label']\n",
        "\n",
        "svcEst = SVC(C=15)\n",
        "\n",
        "s = cross_val_score(svcEst, X, y, cv=KFold(10, shuffle=True), scoring=make_scorer(accuracy_score))\n",
        "print (s)\n",
        "print (\"accuracy %.3f (+/- %.5f)\"%(np.mean(s), np.std(s)))"
      ],
      "metadata": {
        "colab": {
          "base_uri": "https://localhost:8080/"
        },
        "id": "i4dKRnHK9EUS",
        "outputId": "832cc11e-aef2-4791-8aa9-af0d557c8803"
      },
      "execution_count": null,
      "outputs": [
        {
          "output_type": "stream",
          "name": "stdout",
          "text": [
            "[0.70944609 0.72527201 0.69997527 0.70986891 0.71803116 0.71976255\n",
            " 0.71531041 0.71778382 0.7296562  0.7116003 ]\n",
            "accuracy 0.716 (+/- 0.00806)\n"
          ]
        }
      ]
    },
    {
      "cell_type": "markdown",
      "source": [
        "As expected, the average score for the `SVC` is 71.6%. While this is still a good score, when compared to the Decision Tree Classifier, in both terms of speed and average score, it's hard to justify the use of a `SVC` for this specific application."
      ],
      "metadata": {
        "id": "xdnqpXSLAqzR"
      }
    },
    {
      "cell_type": "markdown",
      "source": [
        "## **KMeans** <a name='eje24'></a>\n",
        "\n",
        "\n"
      ],
      "metadata": {
        "id": "7MKfmah0C0QG"
      }
    },
    {
      "cell_type": "markdown",
      "source": [
        "As a last way of visualizing the data, we decided the use `KMeans` as a way of visualizing the clusters of how the reviews were being told apart from each other. In order to be more thorough with the data, and how it's being treated, we used `PCA` to generate components from all the features. We also decided to use the best Desicion Tree Classifier features for the `KMeans` data in order to try to visualize how clusters of that sort would look like."
      ],
      "metadata": {
        "id": "hBm6FmvmEuYH"
      }
    },
    {
      "cell_type": "code",
      "source": [
        "from sklearn.decomposition import PCA\n",
        "\n",
        "# Create the PCA components from all the feautures\n",
        "pca = PCA(2)\n",
        "kmeans_df = pca.fit_transform(data[features])\n",
        "\n",
        "# And extract the best features from the treeEst\n",
        "best_feat_df = X[['repetition_value', 'char_amount']]\n"
      ],
      "metadata": {
        "id": "11NJQF5EBcJb"
      },
      "execution_count": null,
      "outputs": []
    },
    {
      "cell_type": "markdown",
      "source": [
        "With this data, we could now fit out `KMeans` with both the `PCA` components and the best features."
      ],
      "metadata": {
        "id": "1-nV7nTxGDth"
      }
    },
    {
      "cell_type": "code",
      "source": [
        "from sklearn.cluster import KMeans\n",
        "\n",
        "# PCA kmeans\n",
        "pca_kmeans = KMeans(n_clusters= 2)\n",
        "pca_kmeans_labels = pca_kmeans.fit_predict(kmeans_df, y)\n",
        "\n",
        "# Best feats kmeans\n",
        "best_feat_kmeans = KMeans(n_clusters=2)\n",
        "best_feat_kmeans_labels = best_feat_kmeans.fit_predict(best_feat_df, y)"
      ],
      "metadata": {
        "id": "P53oYroCB1kS"
      },
      "execution_count": null,
      "outputs": []
    },
    {
      "cell_type": "markdown",
      "source": [
        "With each of our `KMeans` trained, we can now graph the clusters.\n",
        "\n",
        "First, let's check the `PCA` clusters. "
      ],
      "metadata": {
        "id": "j9DuAB71HrMB"
      }
    },
    {
      "cell_type": "code",
      "source": [
        "computer_pca = kmeans_df[pca_kmeans_labels == 0] # CG\n",
        "original_pca = kmeans_df[pca_kmeans_labels == 1] # OR\n",
        "\n",
        "\n",
        "\n",
        "plt.scatter(computer_pca[:,0] , computer_pca[:,1] , color = 'red')\n",
        "plt.scatter(original_pca[:,0] , original_pca[:,1] , color = 'black')\n",
        "plt.show()"
      ],
      "metadata": {
        "colab": {
          "base_uri": "https://localhost:8080/",
          "height": 265
        },
        "id": "8-wWWKJVCC8e",
        "outputId": "bcfd88d5-8f5a-41aa-d684-0bfdeee5bd55"
      },
      "execution_count": null,
      "outputs": [
        {
          "output_type": "display_data",
          "data": {
            "image/png": "[encoded data removed]",
            "text/plain": [
              "<Figure size 432x288 with 1 Axes>"
            ]
          },
          "metadata": {
            "needs_background": "light"
          }
        }
      ]
    },
    {
      "cell_type": "markdown",
      "source": [
        "As we can see, there is a very strict like defined by the `KMeans` where it diferenciates the original reviews from rht computer generated ones. We can't really tell what each of the components generated by the PCA represent but it's apparent than the result is a broader interval for our original reviews when compared to the computer reviews.\n",
        "\n",
        "Finally, let's see how the clusters for our best features look like."
      ],
      "metadata": {
        "id": "v5AVvOXKH4Ro"
      }
    },
    {
      "cell_type": "code",
      "source": [
        "computer_best = best_feat_df[best_feat_kmeans_labels == 0] # CG\n",
        "original_best = best_feat_df[best_feat_kmeans_labels == 1] # OR\n",
        "\n",
        "\n",
        "plt.scatter(computer_best.iloc[:,0] , computer_best.iloc[:,1] , color = 'red')\n",
        "plt.scatter(original_best.iloc[:,0] , original_best.iloc[:,1] , color = 'black')\n",
        "plt.show()"
      ],
      "metadata": {
        "colab": {
          "base_uri": "https://localhost:8080/",
          "height": 265
        },
        "id": "Ss4fQssPHOv_",
        "outputId": "b4c71804-984b-4411-bbad-35874a9463a7"
      },
      "execution_count": null,
      "outputs": [
        {
          "output_type": "display_data",
          "data": {
            "image/png": "[encoded data removed]",
            "text/plain": [
              "<Figure size 432x288 with 1 Axes>"
            ]
          },
          "metadata": {
            "needs_background": "light"
          }
        }
      ]
    },
    {
      "cell_type": "markdown",
      "source": [
        "We can tell than the x-axis represents the `repetition_value` and the `char_amount` is our y-axis due to the scale factor alone. From the way the `KMeans` has defined the clusters, we can tell that one of the strongest factors falls into the total amount of characters the review amounts to. It seems computer generated reviews tend to be shorter in general when compared to real reviews. "
      ],
      "metadata": {
        "id": "SQBH6jTwIzdc"
      }
    },
    {
      "cell_type": "markdown",
      "source": [
        "# **3. Conclusions** <a name='eje3'>"
      ],
      "metadata": {
        "id": "-M5WyaZmJnd-"
      }
    },
    {
      "cell_type": "markdown",
      "source": [
        "After the development of this notebook, the first thing we are able to conclue falls into the fullfilment of our main objective of building an AI capable of classifying product reviews into them being real or computer generated. \n",
        "\n",
        "From the 2 estimators selected, Decision Trees and Support Vector Machines, we are able to conclude than, when compared, they are both able to achieve the main objective, in this particular application, Decision Trees were deemed supperior due to both better score and faster train and predict speeds. The latter begin the heaviest factor due the speed being high really important when classifying hundreds of reviews. \n",
        "\n"
      ],
      "metadata": {
        "id": "N_g7M3lfJ5_u"
      }
    }
  ]
}